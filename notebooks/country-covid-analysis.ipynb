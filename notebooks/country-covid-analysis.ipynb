{
 "cells": [
  {
   "cell_type": "code",
   "execution_count": 2,
   "metadata": {},
   "outputs": [],
   "source": [
    "# Import libraries\n",
    "import requests\n",
    "import pandas as pd\n",
    "import numpy as np\n",
    "import plotly.graph_objects as go\n",
    "from IPython.display import display"
   ]
  },
  {
   "cell_type": "code",
   "execution_count": 3,
   "metadata": {},
   "outputs": [],
   "source": [
    "# URL Link construction\n",
    "country_url = \"https://corona-api.com/countries\""
   ]
  },
  {
   "cell_type": "code",
   "execution_count": 4,
   "metadata": {},
   "outputs": [],
   "source": [
    "# API call\n",
    "raw_country = requests.request(\"GET\", country_url)\n",
    "raw_country = raw_country.json()"
   ]
  },
  {
   "cell_type": "code",
   "execution_count": 5,
   "metadata": {},
   "outputs": [],
   "source": [
    "# Transform data into pandas dataframe\n",
    "df_country = pd.DataFrame(raw_country['data'])\n",
    "df_country = df_country.join(pd.json_normalize(df_country[\"today\"].tolist()).add_prefix(\"today.\")).drop([\"today\"], axis=1)\n",
    "df_country = df_country.join(pd.json_normalize(df_country[\"latest_data\"].tolist()).add_prefix(\"latest_data.\")).drop([\"latest_data\"], axis=1)\n",
    "df_country = df_country.join(pd.json_normalize(df_country[\"coordinates\"].tolist()).add_prefix(\"coordinates.\")).drop([\"coordinates\"], axis=1)"
   ]
  },
  {
   "cell_type": "code",
   "execution_count": 31,
   "metadata": {},
   "outputs": [
    {
     "data": {
      "text/html": [
       "<div>\n",
       "<style scoped>\n",
       "    .dataframe tbody tr th:only-of-type {\n",
       "        vertical-align: middle;\n",
       "    }\n",
       "\n",
       "    .dataframe tbody tr th {\n",
       "        vertical-align: top;\n",
       "    }\n",
       "\n",
       "    .dataframe thead th {\n",
       "        text-align: right;\n",
       "    }\n",
       "</style>\n",
       "<table border=\"1\" class=\"dataframe\">\n",
       "  <thead>\n",
       "    <tr style=\"text-align: right;\">\n",
       "      <th></th>\n",
       "      <th>name</th>\n",
       "      <th>code</th>\n",
       "      <th>population</th>\n",
       "      <th>updated_at</th>\n",
       "      <th>today.deaths</th>\n",
       "      <th>today.confirmed</th>\n",
       "      <th>latest_data.deaths</th>\n",
       "      <th>latest_data.confirmed</th>\n",
       "      <th>latest_data.recovered</th>\n",
       "      <th>latest_data.critical</th>\n",
       "      <th>latest_data.calculated.death_rate</th>\n",
       "      <th>latest_data.calculated.recovery_rate</th>\n",
       "      <th>latest_data.calculated.recovered_vs_death_ratio</th>\n",
       "      <th>latest_data.calculated.cases_per_million_population</th>\n",
       "      <th>coordinates.latitude</th>\n",
       "      <th>coordinates.longitude</th>\n",
       "    </tr>\n",
       "  </thead>\n",
       "  <tbody>\n",
       "    <tr>\n",
       "      <th>0</th>\n",
       "      <td>Afghanistan</td>\n",
       "      <td>AF</td>\n",
       "      <td>29121286.0</td>\n",
       "      <td>2020-07-30T01:38:36.131Z</td>\n",
       "      <td>1</td>\n",
       "      <td>103</td>\n",
       "      <td>1271</td>\n",
       "      <td>36471</td>\n",
       "      <td>25389</td>\n",
       "      <td>9811</td>\n",
       "      <td>3.484961</td>\n",
       "      <td>69.614214</td>\n",
       "      <td>None</td>\n",
       "      <td>31</td>\n",
       "      <td>33.0000</td>\n",
       "      <td>65.0000</td>\n",
       "    </tr>\n",
       "    <tr>\n",
       "      <th>1</th>\n",
       "      <td>Albania</td>\n",
       "      <td>AL</td>\n",
       "      <td>2986952.0</td>\n",
       "      <td>2020-07-30T01:38:36.131Z</td>\n",
       "      <td>2</td>\n",
       "      <td>108</td>\n",
       "      <td>150</td>\n",
       "      <td>5105</td>\n",
       "      <td>2830</td>\n",
       "      <td>2125</td>\n",
       "      <td>2.938296</td>\n",
       "      <td>55.435847</td>\n",
       "      <td>None</td>\n",
       "      <td>17</td>\n",
       "      <td>41.0000</td>\n",
       "      <td>20.0000</td>\n",
       "    </tr>\n",
       "    <tr>\n",
       "      <th>2</th>\n",
       "      <td>Åland Islands</td>\n",
       "      <td>AX</td>\n",
       "      <td>26711.0</td>\n",
       "      <td>2020-07-30T01:38:36.131Z</td>\n",
       "      <td>0</td>\n",
       "      <td>0</td>\n",
       "      <td>0</td>\n",
       "      <td>0</td>\n",
       "      <td>0</td>\n",
       "      <td>0</td>\n",
       "      <td>NaN</td>\n",
       "      <td>NaN</td>\n",
       "      <td>None</td>\n",
       "      <td>0</td>\n",
       "      <td>0.0000</td>\n",
       "      <td>0.0000</td>\n",
       "    </tr>\n",
       "    <tr>\n",
       "      <th>3</th>\n",
       "      <td>American Samoa</td>\n",
       "      <td>AS</td>\n",
       "      <td>57881.0</td>\n",
       "      <td>2020-07-30T01:38:36.131Z</td>\n",
       "      <td>0</td>\n",
       "      <td>0</td>\n",
       "      <td>0</td>\n",
       "      <td>0</td>\n",
       "      <td>0</td>\n",
       "      <td>0</td>\n",
       "      <td>NaN</td>\n",
       "      <td>NaN</td>\n",
       "      <td>None</td>\n",
       "      <td>0</td>\n",
       "      <td>0.0000</td>\n",
       "      <td>0.0000</td>\n",
       "    </tr>\n",
       "    <tr>\n",
       "      <th>4</th>\n",
       "      <td>Algeria</td>\n",
       "      <td>DZ</td>\n",
       "      <td>34586184.0</td>\n",
       "      <td>2020-07-30T01:38:36.131Z</td>\n",
       "      <td>12</td>\n",
       "      <td>614</td>\n",
       "      <td>1186</td>\n",
       "      <td>29229</td>\n",
       "      <td>19592</td>\n",
       "      <td>8451</td>\n",
       "      <td>4.057614</td>\n",
       "      <td>67.029320</td>\n",
       "      <td>None</td>\n",
       "      <td>70</td>\n",
       "      <td>28.0000</td>\n",
       "      <td>3.0000</td>\n",
       "    </tr>\n",
       "    <tr>\n",
       "      <th>5</th>\n",
       "      <td>Andorra</td>\n",
       "      <td>AD</td>\n",
       "      <td>84000.0</td>\n",
       "      <td>2020-07-30T01:38:36.131Z</td>\n",
       "      <td>0</td>\n",
       "      <td>11</td>\n",
       "      <td>52</td>\n",
       "      <td>918</td>\n",
       "      <td>804</td>\n",
       "      <td>62</td>\n",
       "      <td>5.664488</td>\n",
       "      <td>87.581699</td>\n",
       "      <td>None</td>\n",
       "      <td>0</td>\n",
       "      <td>42.5000</td>\n",
       "      <td>1.6000</td>\n",
       "    </tr>\n",
       "    <tr>\n",
       "      <th>6</th>\n",
       "      <td>Angola</td>\n",
       "      <td>AO</td>\n",
       "      <td>13068161.0</td>\n",
       "      <td>2020-07-30T01:38:36.131Z</td>\n",
       "      <td>1</td>\n",
       "      <td>78</td>\n",
       "      <td>48</td>\n",
       "      <td>1078</td>\n",
       "      <td>301</td>\n",
       "      <td>729</td>\n",
       "      <td>4.452690</td>\n",
       "      <td>27.922078</td>\n",
       "      <td>None</td>\n",
       "      <td>15</td>\n",
       "      <td>0.0000</td>\n",
       "      <td>0.0000</td>\n",
       "    </tr>\n",
       "    <tr>\n",
       "      <th>7</th>\n",
       "      <td>Anguilla</td>\n",
       "      <td>AI</td>\n",
       "      <td>13254.0</td>\n",
       "      <td>2020-07-30T01:38:36.131Z</td>\n",
       "      <td>0</td>\n",
       "      <td>0</td>\n",
       "      <td>0</td>\n",
       "      <td>3</td>\n",
       "      <td>3</td>\n",
       "      <td>0</td>\n",
       "      <td>0.000000</td>\n",
       "      <td>100.000000</td>\n",
       "      <td>None</td>\n",
       "      <td>0</td>\n",
       "      <td>0.0000</td>\n",
       "      <td>0.0000</td>\n",
       "    </tr>\n",
       "    <tr>\n",
       "      <th>8</th>\n",
       "      <td>Antigua and Barbuda</td>\n",
       "      <td>AG</td>\n",
       "      <td>86754.0</td>\n",
       "      <td>2020-07-30T01:38:36.131Z</td>\n",
       "      <td>0</td>\n",
       "      <td>5</td>\n",
       "      <td>3</td>\n",
       "      <td>91</td>\n",
       "      <td>67</td>\n",
       "      <td>21</td>\n",
       "      <td>3.296703</td>\n",
       "      <td>73.626374</td>\n",
       "      <td>None</td>\n",
       "      <td>1</td>\n",
       "      <td>17.0500</td>\n",
       "      <td>-61.8000</td>\n",
       "    </tr>\n",
       "    <tr>\n",
       "      <th>9</th>\n",
       "      <td>Antarctica</td>\n",
       "      <td>AQ</td>\n",
       "      <td>NaN</td>\n",
       "      <td>2020-07-30T01:38:36.131Z</td>\n",
       "      <td>0</td>\n",
       "      <td>0</td>\n",
       "      <td>0</td>\n",
       "      <td>0</td>\n",
       "      <td>0</td>\n",
       "      <td>0</td>\n",
       "      <td>NaN</td>\n",
       "      <td>NaN</td>\n",
       "      <td>None</td>\n",
       "      <td>0</td>\n",
       "      <td>0.0000</td>\n",
       "      <td>0.0000</td>\n",
       "    </tr>\n",
       "    <tr>\n",
       "      <th>10</th>\n",
       "      <td>Australia</td>\n",
       "      <td>AU</td>\n",
       "      <td>21515754.0</td>\n",
       "      <td>2020-07-30T01:38:36.131Z</td>\n",
       "      <td>9</td>\n",
       "      <td>278</td>\n",
       "      <td>176</td>\n",
       "      <td>15582</td>\n",
       "      <td>9619</td>\n",
       "      <td>5787</td>\n",
       "      <td>1.129508</td>\n",
       "      <td>61.731485</td>\n",
       "      <td>None</td>\n",
       "      <td>46</td>\n",
       "      <td>-27.0000</td>\n",
       "      <td>133.0000</td>\n",
       "    </tr>\n",
       "    <tr>\n",
       "      <th>11</th>\n",
       "      <td>Austria</td>\n",
       "      <td>AT</td>\n",
       "      <td>8205000.0</td>\n",
       "      <td>2020-07-30T01:38:36.131Z</td>\n",
       "      <td>3</td>\n",
       "      <td>173</td>\n",
       "      <td>716</td>\n",
       "      <td>20850</td>\n",
       "      <td>18528</td>\n",
       "      <td>1606</td>\n",
       "      <td>3.434053</td>\n",
       "      <td>88.863309</td>\n",
       "      <td>None</td>\n",
       "      <td>20</td>\n",
       "      <td>47.3333</td>\n",
       "      <td>13.3333</td>\n",
       "    </tr>\n",
       "    <tr>\n",
       "      <th>12</th>\n",
       "      <td>Bahrain</td>\n",
       "      <td>BH</td>\n",
       "      <td>738004.0</td>\n",
       "      <td>2020-07-30T01:38:36.131Z</td>\n",
       "      <td>3</td>\n",
       "      <td>390</td>\n",
       "      <td>144</td>\n",
       "      <td>40311</td>\n",
       "      <td>36920</td>\n",
       "      <td>3247</td>\n",
       "      <td>0.357223</td>\n",
       "      <td>91.587904</td>\n",
       "      <td>None</td>\n",
       "      <td>41</td>\n",
       "      <td>26.0000</td>\n",
       "      <td>50.5500</td>\n",
       "    </tr>\n",
       "    <tr>\n",
       "      <th>13</th>\n",
       "      <td>Bangladesh</td>\n",
       "      <td>BD</td>\n",
       "      <td>156118464.0</td>\n",
       "      <td>2020-07-30T01:38:36.131Z</td>\n",
       "      <td>35</td>\n",
       "      <td>3009</td>\n",
       "      <td>3035</td>\n",
       "      <td>232194</td>\n",
       "      <td>130292</td>\n",
       "      <td>98867</td>\n",
       "      <td>1.307097</td>\n",
       "      <td>56.113422</td>\n",
       "      <td>None</td>\n",
       "      <td>1</td>\n",
       "      <td>24.0000</td>\n",
       "      <td>90.0000</td>\n",
       "    </tr>\n",
       "    <tr>\n",
       "      <th>14</th>\n",
       "      <td>Benin</td>\n",
       "      <td>BJ</td>\n",
       "      <td>9056010.0</td>\n",
       "      <td>2020-07-30T01:38:36.131Z</td>\n",
       "      <td>1</td>\n",
       "      <td>35</td>\n",
       "      <td>36</td>\n",
       "      <td>1805</td>\n",
       "      <td>1036</td>\n",
       "      <td>733</td>\n",
       "      <td>1.994460</td>\n",
       "      <td>57.396122</td>\n",
       "      <td>None</td>\n",
       "      <td>1</td>\n",
       "      <td>9.5000</td>\n",
       "      <td>2.2500</td>\n",
       "    </tr>\n",
       "    <tr>\n",
       "      <th>15</th>\n",
       "      <td>Belize</td>\n",
       "      <td>BZ</td>\n",
       "      <td>314522.0</td>\n",
       "      <td>2020-07-30T01:38:36.131Z</td>\n",
       "      <td>0</td>\n",
       "      <td>0</td>\n",
       "      <td>2</td>\n",
       "      <td>48</td>\n",
       "      <td>27</td>\n",
       "      <td>19</td>\n",
       "      <td>4.166667</td>\n",
       "      <td>56.250000</td>\n",
       "      <td>None</td>\n",
       "      <td>0</td>\n",
       "      <td>0.0000</td>\n",
       "      <td>0.0000</td>\n",
       "    </tr>\n",
       "    <tr>\n",
       "      <th>16</th>\n",
       "      <td>Argentina</td>\n",
       "      <td>AR</td>\n",
       "      <td>41343201.0</td>\n",
       "      <td>2020-07-30T01:38:36.131Z</td>\n",
       "      <td>109</td>\n",
       "      <td>5641</td>\n",
       "      <td>3288</td>\n",
       "      <td>178996</td>\n",
       "      <td>77855</td>\n",
       "      <td>97853</td>\n",
       "      <td>1.836913</td>\n",
       "      <td>43.495385</td>\n",
       "      <td>None</td>\n",
       "      <td>1002</td>\n",
       "      <td>-34.0000</td>\n",
       "      <td>-64.0000</td>\n",
       "    </tr>\n",
       "  </tbody>\n",
       "</table>\n",
       "</div>"
      ],
      "text/plain": [
       "                   name code   population                updated_at  \\\n",
       "0           Afghanistan   AF   29121286.0  2020-07-30T01:38:36.131Z   \n",
       "1               Albania   AL    2986952.0  2020-07-30T01:38:36.131Z   \n",
       "2         Åland Islands   AX      26711.0  2020-07-30T01:38:36.131Z   \n",
       "3        American Samoa   AS      57881.0  2020-07-30T01:38:36.131Z   \n",
       "4               Algeria   DZ   34586184.0  2020-07-30T01:38:36.131Z   \n",
       "5               Andorra   AD      84000.0  2020-07-30T01:38:36.131Z   \n",
       "6                Angola   AO   13068161.0  2020-07-30T01:38:36.131Z   \n",
       "7              Anguilla   AI      13254.0  2020-07-30T01:38:36.131Z   \n",
       "8   Antigua and Barbuda   AG      86754.0  2020-07-30T01:38:36.131Z   \n",
       "9            Antarctica   AQ          NaN  2020-07-30T01:38:36.131Z   \n",
       "10            Australia   AU   21515754.0  2020-07-30T01:38:36.131Z   \n",
       "11              Austria   AT    8205000.0  2020-07-30T01:38:36.131Z   \n",
       "12              Bahrain   BH     738004.0  2020-07-30T01:38:36.131Z   \n",
       "13           Bangladesh   BD  156118464.0  2020-07-30T01:38:36.131Z   \n",
       "14                Benin   BJ    9056010.0  2020-07-30T01:38:36.131Z   \n",
       "15               Belize   BZ     314522.0  2020-07-30T01:38:36.131Z   \n",
       "16            Argentina   AR   41343201.0  2020-07-30T01:38:36.131Z   \n",
       "\n",
       "    today.deaths  today.confirmed  latest_data.deaths  latest_data.confirmed  \\\n",
       "0              1              103                1271                  36471   \n",
       "1              2              108                 150                   5105   \n",
       "2              0                0                   0                      0   \n",
       "3              0                0                   0                      0   \n",
       "4             12              614                1186                  29229   \n",
       "5              0               11                  52                    918   \n",
       "6              1               78                  48                   1078   \n",
       "7              0                0                   0                      3   \n",
       "8              0                5                   3                     91   \n",
       "9              0                0                   0                      0   \n",
       "10             9              278                 176                  15582   \n",
       "11             3              173                 716                  20850   \n",
       "12             3              390                 144                  40311   \n",
       "13            35             3009                3035                 232194   \n",
       "14             1               35                  36                   1805   \n",
       "15             0                0                   2                     48   \n",
       "16           109             5641                3288                 178996   \n",
       "\n",
       "    latest_data.recovered  latest_data.critical  \\\n",
       "0                   25389                  9811   \n",
       "1                    2830                  2125   \n",
       "2                       0                     0   \n",
       "3                       0                     0   \n",
       "4                   19592                  8451   \n",
       "5                     804                    62   \n",
       "6                     301                   729   \n",
       "7                       3                     0   \n",
       "8                      67                    21   \n",
       "9                       0                     0   \n",
       "10                   9619                  5787   \n",
       "11                  18528                  1606   \n",
       "12                  36920                  3247   \n",
       "13                 130292                 98867   \n",
       "14                   1036                   733   \n",
       "15                     27                    19   \n",
       "16                  77855                 97853   \n",
       "\n",
       "    latest_data.calculated.death_rate  latest_data.calculated.recovery_rate  \\\n",
       "0                            3.484961                             69.614214   \n",
       "1                            2.938296                             55.435847   \n",
       "2                                 NaN                                   NaN   \n",
       "3                                 NaN                                   NaN   \n",
       "4                            4.057614                             67.029320   \n",
       "5                            5.664488                             87.581699   \n",
       "6                            4.452690                             27.922078   \n",
       "7                            0.000000                            100.000000   \n",
       "8                            3.296703                             73.626374   \n",
       "9                                 NaN                                   NaN   \n",
       "10                           1.129508                             61.731485   \n",
       "11                           3.434053                             88.863309   \n",
       "12                           0.357223                             91.587904   \n",
       "13                           1.307097                             56.113422   \n",
       "14                           1.994460                             57.396122   \n",
       "15                           4.166667                             56.250000   \n",
       "16                           1.836913                             43.495385   \n",
       "\n",
       "   latest_data.calculated.recovered_vs_death_ratio  \\\n",
       "0                                             None   \n",
       "1                                             None   \n",
       "2                                             None   \n",
       "3                                             None   \n",
       "4                                             None   \n",
       "5                                             None   \n",
       "6                                             None   \n",
       "7                                             None   \n",
       "8                                             None   \n",
       "9                                             None   \n",
       "10                                            None   \n",
       "11                                            None   \n",
       "12                                            None   \n",
       "13                                            None   \n",
       "14                                            None   \n",
       "15                                            None   \n",
       "16                                            None   \n",
       "\n",
       "    latest_data.calculated.cases_per_million_population  coordinates.latitude  \\\n",
       "0                                                  31                 33.0000   \n",
       "1                                                  17                 41.0000   \n",
       "2                                                   0                  0.0000   \n",
       "3                                                   0                  0.0000   \n",
       "4                                                  70                 28.0000   \n",
       "5                                                   0                 42.5000   \n",
       "6                                                  15                  0.0000   \n",
       "7                                                   0                  0.0000   \n",
       "8                                                   1                 17.0500   \n",
       "9                                                   0                  0.0000   \n",
       "10                                                 46                -27.0000   \n",
       "11                                                 20                 47.3333   \n",
       "12                                                 41                 26.0000   \n",
       "13                                                  1                 24.0000   \n",
       "14                                                  1                  9.5000   \n",
       "15                                                  0                  0.0000   \n",
       "16                                               1002                -34.0000   \n",
       "\n",
       "    coordinates.longitude  \n",
       "0                 65.0000  \n",
       "1                 20.0000  \n",
       "2                  0.0000  \n",
       "3                  0.0000  \n",
       "4                  3.0000  \n",
       "5                  1.6000  \n",
       "6                  0.0000  \n",
       "7                  0.0000  \n",
       "8                -61.8000  \n",
       "9                  0.0000  \n",
       "10               133.0000  \n",
       "11                13.3333  \n",
       "12                50.5500  \n",
       "13                90.0000  \n",
       "14                 2.2500  \n",
       "15                 0.0000  \n",
       "16               -64.0000  "
      ]
     },
     "execution_count": 31,
     "metadata": {},
     "output_type": "execute_result"
    }
   ],
   "source": [
    "df_country.head(n=17)"
   ]
  },
  {
   "cell_type": "code",
   "execution_count": 8,
   "metadata": {},
   "outputs": [
    {
     "name": "stdout",
     "output_type": "stream",
     "text": [
      "<class 'pandas.core.frame.DataFrame'>\n",
      "RangeIndex: 249 entries, 0 to 248\n",
      "Data columns (total 16 columns):\n",
      " #   Column                                               Non-Null Count  Dtype  \n",
      "---  ------                                               --------------  -----  \n",
      " 0   name                                                 249 non-null    object \n",
      " 1   code                                                 249 non-null    object \n",
      " 2   population                                           245 non-null    float64\n",
      " 3   updated_at                                           249 non-null    object \n",
      " 4   today.deaths                                         249 non-null    int64  \n",
      " 5   today.confirmed                                      249 non-null    int64  \n",
      " 6   latest_data.deaths                                   249 non-null    int64  \n",
      " 7   latest_data.confirmed                                249 non-null    int64  \n",
      " 8   latest_data.recovered                                249 non-null    int64  \n",
      " 9   latest_data.critical                                 249 non-null    int64  \n",
      " 10  latest_data.calculated.death_rate                    207 non-null    float64\n",
      " 11  latest_data.calculated.recovery_rate                 207 non-null    float64\n",
      " 12  latest_data.calculated.recovered_vs_death_ratio      0 non-null      object \n",
      " 13  latest_data.calculated.cases_per_million_population  249 non-null    int64  \n",
      " 14  coordinates.latitude                                 248 non-null    float64\n",
      " 15  coordinates.longitude                                248 non-null    float64\n",
      "dtypes: float64(5), int64(7), object(4)\n",
      "memory usage: 31.2+ KB\n"
     ]
    },
    {
     "data": {
      "text/plain": [
       "None"
      ]
     },
     "metadata": {},
     "output_type": "display_data"
    },
    {
     "data": {
      "text/html": [
       "<div>\n",
       "<style scoped>\n",
       "    .dataframe tbody tr th:only-of-type {\n",
       "        vertical-align: middle;\n",
       "    }\n",
       "\n",
       "    .dataframe tbody tr th {\n",
       "        vertical-align: top;\n",
       "    }\n",
       "\n",
       "    .dataframe thead th {\n",
       "        text-align: right;\n",
       "    }\n",
       "</style>\n",
       "<table border=\"1\" class=\"dataframe\">\n",
       "  <thead>\n",
       "    <tr style=\"text-align: right;\">\n",
       "      <th></th>\n",
       "      <th>population</th>\n",
       "      <th>today.deaths</th>\n",
       "      <th>today.confirmed</th>\n",
       "      <th>latest_data.deaths</th>\n",
       "      <th>latest_data.confirmed</th>\n",
       "      <th>latest_data.recovered</th>\n",
       "      <th>latest_data.critical</th>\n",
       "      <th>latest_data.calculated.death_rate</th>\n",
       "      <th>latest_data.calculated.recovery_rate</th>\n",
       "      <th>latest_data.calculated.cases_per_million_population</th>\n",
       "      <th>coordinates.latitude</th>\n",
       "      <th>coordinates.longitude</th>\n",
       "    </tr>\n",
       "  </thead>\n",
       "  <tbody>\n",
       "    <tr>\n",
       "      <th>count</th>\n",
       "      <td>2.450000e+02</td>\n",
       "      <td>249.000000</td>\n",
       "      <td>249.000000</td>\n",
       "      <td>249.000000</td>\n",
       "      <td>2.490000e+02</td>\n",
       "      <td>2.490000e+02</td>\n",
       "      <td>2.490000e+02</td>\n",
       "      <td>207.000000</td>\n",
       "      <td>207.000000</td>\n",
       "      <td>249.000000</td>\n",
       "      <td>248.000000</td>\n",
       "      <td>248.000000</td>\n",
       "    </tr>\n",
       "    <tr>\n",
       "      <th>mean</th>\n",
       "      <td>2.801242e+07</td>\n",
       "      <td>27.100402</td>\n",
       "      <td>1139.859438</td>\n",
       "      <td>2685.618474</td>\n",
       "      <td>6.863102e+04</td>\n",
       "      <td>4.181398e+04</td>\n",
       "      <td>2.140699e+04</td>\n",
       "      <td>3.101916</td>\n",
       "      <td>67.099454</td>\n",
       "      <td>268.072289</td>\n",
       "      <td>14.017625</td>\n",
       "      <td>7.371135</td>\n",
       "    </tr>\n",
       "    <tr>\n",
       "      <th>std</th>\n",
       "      <td>1.179886e+08</td>\n",
       "      <td>153.947395</td>\n",
       "      <td>7042.472050</td>\n",
       "      <td>12687.954431</td>\n",
       "      <td>3.538537e+05</td>\n",
       "      <td>2.007774e+05</td>\n",
       "      <td>1.486582e+05</td>\n",
       "      <td>3.535369</td>\n",
       "      <td>26.038417</td>\n",
       "      <td>1483.537339</td>\n",
       "      <td>21.723817</td>\n",
       "      <td>49.921879</td>\n",
       "    </tr>\n",
       "    <tr>\n",
       "      <th>min</th>\n",
       "      <td>3.000000e+01</td>\n",
       "      <td>0.000000</td>\n",
       "      <td>0.000000</td>\n",
       "      <td>0.000000</td>\n",
       "      <td>0.000000e+00</td>\n",
       "      <td>0.000000e+00</td>\n",
       "      <td>0.000000e+00</td>\n",
       "      <td>0.000000</td>\n",
       "      <td>0.000000</td>\n",
       "      <td>0.000000</td>\n",
       "      <td>-41.000000</td>\n",
       "      <td>-140.000000</td>\n",
       "    </tr>\n",
       "    <tr>\n",
       "      <th>25%</th>\n",
       "      <td>2.164940e+05</td>\n",
       "      <td>0.000000</td>\n",
       "      <td>0.000000</td>\n",
       "      <td>0.000000</td>\n",
       "      <td>4.600000e+01</td>\n",
       "      <td>2.200000e+01</td>\n",
       "      <td>0.000000e+00</td>\n",
       "      <td>0.915635</td>\n",
       "      <td>51.121735</td>\n",
       "      <td>0.000000</td>\n",
       "      <td>0.000000</td>\n",
       "      <td>0.000000</td>\n",
       "    </tr>\n",
       "    <tr>\n",
       "      <th>50%</th>\n",
       "      <td>4.516220e+06</td>\n",
       "      <td>0.000000</td>\n",
       "      <td>10.000000</td>\n",
       "      <td>40.000000</td>\n",
       "      <td>1.805000e+03</td>\n",
       "      <td>9.310000e+02</td>\n",
       "      <td>2.520000e+02</td>\n",
       "      <td>2.171680</td>\n",
       "      <td>73.342647</td>\n",
       "      <td>1.000000</td>\n",
       "      <td>4.000000</td>\n",
       "      <td>0.000000</td>\n",
       "    </tr>\n",
       "    <tr>\n",
       "      <th>75%</th>\n",
       "      <td>1.587827e+07</td>\n",
       "      <td>3.000000</td>\n",
       "      <td>234.000000</td>\n",
       "      <td>391.000000</td>\n",
       "      <td>1.927300e+04</td>\n",
       "      <td>1.019500e+04</td>\n",
       "      <td>4.290000e+03</td>\n",
       "      <td>3.986712</td>\n",
       "      <td>88.709548</td>\n",
       "      <td>29.000000</td>\n",
       "      <td>31.625000</td>\n",
       "      <td>24.000000</td>\n",
       "    </tr>\n",
       "    <tr>\n",
       "      <th>max</th>\n",
       "      <td>1.330044e+09</td>\n",
       "      <td>1554.000000</td>\n",
       "      <td>70869.000000</td>\n",
       "      <td>153765.000000</td>\n",
       "      <td>4.568037e+06</td>\n",
       "      <td>2.245044e+06</td>\n",
       "      <td>2.169228e+06</td>\n",
       "      <td>28.345996</td>\n",
       "      <td>100.000000</td>\n",
       "      <td>18852.000000</td>\n",
       "      <td>72.000000</td>\n",
       "      <td>175.000000</td>\n",
       "    </tr>\n",
       "  </tbody>\n",
       "</table>\n",
       "</div>"
      ],
      "text/plain": [
       "         population  today.deaths  today.confirmed  latest_data.deaths  \\\n",
       "count  2.450000e+02    249.000000       249.000000          249.000000   \n",
       "mean   2.801242e+07     27.100402      1139.859438         2685.618474   \n",
       "std    1.179886e+08    153.947395      7042.472050        12687.954431   \n",
       "min    3.000000e+01      0.000000         0.000000            0.000000   \n",
       "25%    2.164940e+05      0.000000         0.000000            0.000000   \n",
       "50%    4.516220e+06      0.000000        10.000000           40.000000   \n",
       "75%    1.587827e+07      3.000000       234.000000          391.000000   \n",
       "max    1.330044e+09   1554.000000     70869.000000       153765.000000   \n",
       "\n",
       "       latest_data.confirmed  latest_data.recovered  latest_data.critical  \\\n",
       "count           2.490000e+02           2.490000e+02          2.490000e+02   \n",
       "mean            6.863102e+04           4.181398e+04          2.140699e+04   \n",
       "std             3.538537e+05           2.007774e+05          1.486582e+05   \n",
       "min             0.000000e+00           0.000000e+00          0.000000e+00   \n",
       "25%             4.600000e+01           2.200000e+01          0.000000e+00   \n",
       "50%             1.805000e+03           9.310000e+02          2.520000e+02   \n",
       "75%             1.927300e+04           1.019500e+04          4.290000e+03   \n",
       "max             4.568037e+06           2.245044e+06          2.169228e+06   \n",
       "\n",
       "       latest_data.calculated.death_rate  \\\n",
       "count                         207.000000   \n",
       "mean                            3.101916   \n",
       "std                             3.535369   \n",
       "min                             0.000000   \n",
       "25%                             0.915635   \n",
       "50%                             2.171680   \n",
       "75%                             3.986712   \n",
       "max                            28.345996   \n",
       "\n",
       "       latest_data.calculated.recovery_rate  \\\n",
       "count                            207.000000   \n",
       "mean                              67.099454   \n",
       "std                               26.038417   \n",
       "min                                0.000000   \n",
       "25%                               51.121735   \n",
       "50%                               73.342647   \n",
       "75%                               88.709548   \n",
       "max                              100.000000   \n",
       "\n",
       "       latest_data.calculated.cases_per_million_population  \\\n",
       "count                                         249.000000     \n",
       "mean                                          268.072289     \n",
       "std                                          1483.537339     \n",
       "min                                             0.000000     \n",
       "25%                                             0.000000     \n",
       "50%                                             1.000000     \n",
       "75%                                            29.000000     \n",
       "max                                         18852.000000     \n",
       "\n",
       "       coordinates.latitude  coordinates.longitude  \n",
       "count            248.000000             248.000000  \n",
       "mean              14.017625               7.371135  \n",
       "std               21.723817              49.921879  \n",
       "min              -41.000000            -140.000000  \n",
       "25%                0.000000               0.000000  \n",
       "50%                4.000000               0.000000  \n",
       "75%               31.625000              24.000000  \n",
       "max               72.000000             175.000000  "
      ]
     },
     "metadata": {},
     "output_type": "display_data"
    }
   ],
   "source": [
    "display(df_country.info())\n",
    "display(df_country.describe())"
   ]
  },
  {
   "cell_type": "code",
   "execution_count": 9,
   "metadata": {},
   "outputs": [],
   "source": [
    "import plotly.express as px"
   ]
  },
  {
   "cell_type": "code",
   "execution_count": 79,
   "metadata": {},
   "outputs": [
    {
     "data": {
      "application/vnd.plotly.v1+json": {
       "config": {
        "plotlyServerURL": "https://plot.ly"
       },
       "data": [
        {
         "lat": [
          33,
          41,
          0,
          0,
          28,
          42.5,
          0,
          0,
          17.05,
          0,
          -27,
          47.3333,
          26,
          24,
          9.5,
          0,
          -34,
          40,
          44,
          12.5,
          40.5,
          24.25,
          0,
          0,
          53,
          13.1667,
          0,
          32.3333,
          50.8333,
          6,
          27.5,
          0,
          13,
          0,
          0,
          0,
          43,
          0,
          -10,
          0,
          4,
          60,
          13,
          0,
          10,
          0,
          19.5,
          0,
          35,
          null,
          35,
          0,
          -30,
          19,
          0,
          -1,
          0,
          0,
          2,
          0,
          45.1667,
          21.5,
          0,
          49.75,
          56,
          11.5,
          -18,
          0,
          13.8333,
          27,
          0,
          -15,
          -2,
          8,
          59,
          8,
          51,
          0,
          64,
          0,
          46,
          16.25,
          -1,
          4,
          11,
          13.4667,
          0,
          15,
          36.1833,
          42,
          39,
          72,
          0,
          15.5,
          -5,
          0,
          20,
          13.4667,
          0,
          31.5,
          5,
          22.25,
          0,
          0,
          0,
          47,
          65,
          0,
          33,
          53,
          42.8333,
          18.25,
          36,
          0,
          57,
          47.1667,
          0,
          35.8333,
          -12.8333,
          46,
          0,
          -21.5,
          0,
          31,
          37,
          33.8333,
          56,
          0,
          0,
          1,
          23,
          41,
          42,
          0,
          6.5,
          0,
          22.1667,
          0,
          3.25,
          0,
          20,
          0,
          -20.2833,
          -22,
          30,
          0,
          -41,
          32,
          0,
          28,
          -23,
          0,
          43.7333,
          0,
          52.5,
          62,
          10,
          39.5,
          21,
          0,
          13.8833,
          43.7667,
          0,
          -4.5833,
          -10,
          46,
          18.25,
          0,
          -2,
          0,
          0,
          0,
          0,
          8,
          0,
          39,
          0,
          49,
          40,
          -33,
          0,
          0,
          0,
          0,
          0,
          0,
          41,
          18.3333,
          0,
          48,
          29.3375,
          0,
          49.75,
          2.5,
          14.6667,
          0,
          16.75,
          0,
          13,
          0,
          9,
          0,
          -21.1,
          0,
          0,
          14,
          0,
          -29,
          15,
          47,
          15,
          11,
          0,
          38,
          8,
          0,
          52,
          46,
          0,
          0,
          44,
          48.6667,
          0,
          4,
          0,
          0,
          34,
          0,
          0,
          0,
          0,
          13,
          25.5,
          0,
          0,
          25,
          1.3667,
          10,
          7,
          62,
          0,
          0,
          0,
          54,
          0,
          0,
          -15,
          0,
          0
         ],
         "lon": [
          65,
          20,
          0,
          0,
          3,
          1.6,
          0,
          0,
          -61.8,
          0,
          133,
          13.3333,
          50.55,
          90,
          2.25,
          0,
          -64,
          45,
          18,
          -69.9667,
          47.5,
          -76,
          0,
          0,
          28,
          -59.5333,
          0,
          -64.75,
          4,
          12,
          90.5,
          0,
          105,
          0,
          0,
          0,
          25,
          0,
          -55,
          0,
          -72,
          -95,
          -2,
          0,
          -84,
          0,
          -80.5,
          0,
          105,
          null,
          33,
          0,
          -71,
          -70.6667,
          0,
          15,
          0,
          0,
          10,
          0,
          15.5,
          -80,
          0,
          15.5,
          10,
          43,
          175,
          0,
          -88.9167,
          30,
          0,
          -140,
          -77.5,
          -2,
          26,
          38,
          9,
          0,
          26,
          0,
          2,
          -61.5833,
          11.75,
          -53,
          -10,
          -16.5667,
          0,
          -86.5,
          -5.3667,
          43.5,
          22,
          -40,
          0,
          -90.25,
          120,
          0,
          77,
          144.7833,
          0,
          34.75,
          -59,
          114.1667,
          0,
          0,
          0,
          20,
          -18,
          0,
          44,
          -8,
          12.8333,
          -77.5,
          138,
          0,
          25,
          9.5333,
          0,
          14.5833,
          45.1667,
          105,
          0,
          165.5,
          0,
          36,
          127.5,
          35.8333,
          24,
          0,
          0,
          38,
          -102,
          75,
          19,
          0,
          -9.5,
          0,
          113.55,
          0,
          73,
          0,
          -12,
          0,
          57.55,
          17,
          70,
          0,
          174,
          -5,
          0,
          84,
          -58,
          0,
          7.4,
          0,
          5.75,
          10,
          8,
          -8,
          57,
          0,
          -61.1333,
          12.4167,
          0,
          55.6667,
          -76,
          15,
          -66.5,
          0,
          30,
          0,
          0,
          0,
          0,
          1.1667,
          0,
          35,
          0,
          32,
          -4,
          -56,
          0,
          0,
          0,
          0,
          0,
          0,
          64,
          -64.8333,
          0,
          68,
          47.6581,
          0,
          6.1667,
          112.5,
          -61,
          0,
          -62.2,
          0,
          -85,
          0,
          -80,
          0,
          55.6,
          0,
          0,
          -14,
          0,
          24,
          30,
          8,
          100,
          -61,
          0,
          -97,
          -66,
          0,
          20,
          25,
          0,
          0,
          21,
          19.5,
          0,
          -56,
          0,
          0,
          9,
          0,
          0,
          0,
          0,
          122,
          51.25,
          0,
          0,
          45,
          103.8,
          49,
          81,
          15,
          0,
          0,
          0,
          -2,
          0,
          0,
          30,
          0,
          0
         ],
         "marker": {
          "autocolorscale": false,
          "cmax": 18852,
          "cmin": 0,
          "color": [
           31,
           17,
           0,
           0,
           70,
           0,
           15,
           0,
           1,
           0,
           46,
           20,
           41,
           1,
           1,
           0,
           1002,
           10,
           0,
           0,
           66,
           1,
           0,
           0,
           0,
           0,
           0,
           0,
           49,
           30,
           0,
           71,
           1,
           2,
           1,
           0,
           40,
           0,
           8318,
           0,
           1493,
           2237,
           0,
           0,
           75,
           0,
           0,
           0,
           6,
           0,
           0,
           0,
           1529,
           286,
           0,
           0,
           0,
           0,
           0,
           0,
           8,
           1,
           0,
           16,
           3,
           0,
           0,
           0,
           487,
           41,
           0,
           0,
           350,
           8,
           1,
           66,
           261,
           0,
           0,
           0,
           385,
           3,
           11,
           30,
           24,
           0,
           5,
           59,
           0,
           5,
           8,
           0,
           0,
           5,
           0,
           0,
           8944,
           190,
           0,
           328,
           4,
           39,
           0,
           0,
           0,
           6,
           0,
           4027,
           433,
           4,
           38,
           0,
           81,
           0,
           0,
           0,
           102,
           0,
           1,
           4,
           0,
           0,
           0,
           3,
           12,
           29,
           6,
           4,
           0,
           44,
           3922,
           24,
           7,
           0,
           0,
           0,
           0,
           0,
           12,
           55,
           3,
           0,
           0,
           24,
           1179,
           362,
           0,
           31,
           0,
           0,
           8,
           0,
           0,
           0,
           21,
           2,
           7,
           41,
           184,
           2300,
           0,
           0,
           0,
           0,
           1423,
           3,
           14,
           0,
           0,
           0,
           1,
           0,
           0,
           2,
           0,
           1280,
           0,
           99,
           617,
           6,
           0,
           0,
           0,
           0,
           0,
           0,
           138,
           163,
           0,
           221,
           125,
           0,
           5,
           2,
           4,
           0,
           0,
           0,
           0,
           0,
           158,
           0,
           4,
           0,
           0,
           50,
           0,
           539,
           0,
           20,
           1,
           0,
           0,
           18852,
           26,
           0,
           66,
           377,
           0,
           0,
           143,
           2,
           0,
           11,
           0,
           0,
           3,
           0,
           0,
           0,
           0,
           351,
           97,
           0,
           0,
           2063,
           0,
           2,
           1,
           43,
           7,
           0,
           1,
           94,
           0,
           0,
           18,
           0,
           0
          ],
          "colorbar": {
           "title": {
            "text": "Cases per<br>million population"
           }
          },
          "colorscale": [
           [
            0,
            "rgb(255,245,240)"
           ],
           [
            0.125,
            "rgb(254,224,210)"
           ],
           [
            0.25,
            "rgb(252,187,161)"
           ],
           [
            0.375,
            "rgb(252,146,114)"
           ],
           [
            0.5,
            "rgb(251,106,74)"
           ],
           [
            0.625,
            "rgb(239,59,44)"
           ],
           [
            0.75,
            "rgb(203,24,29)"
           ],
           [
            0.875,
            "rgb(165,15,21)"
           ],
           [
            1,
            "rgb(103,0,13)"
           ]
          ],
          "line": {
           "color": "rgba(102, 102, 102)",
           "width": 1
          },
          "opacity": 0.8,
          "reversescale": false,
          "size": 10,
          "symbol": "circle"
         },
         "mode": "markers",
         "text": [
          "Afghanistan: 31",
          "Albania: 17",
          "Åland Islands: 0",
          "American Samoa: 0",
          "Algeria: 70",
          "Andorra: 0",
          "Angola: 15",
          "Anguilla: 0",
          "Antigua and Barbuda: 1",
          "Antarctica: 0",
          "Australia: 46",
          "Austria: 20",
          "Bahrain: 41",
          "Bangladesh: 1",
          "Benin: 1",
          "Belize: 0",
          "Argentina: 1002",
          "Armenia: 10",
          "Bosnia and Herzegovina: 0",
          "Aruba: 0",
          "Azerbaijan: 66",
          "Bahamas: 1",
          "Brunei : 0",
          "Bonaire, Sint Eustatius and Saba: 0",
          "Belarus: 0",
          "Barbados: 0",
          "British Indian Ocean Territory: 0",
          "Bermuda: 0",
          "Belgium: 49",
          "Cameroon: 30",
          "Bhutan: 0",
          "Bolivia: 71",
          "Cambodia: 1",
          "CAR: 2",
          "Botswana: 1",
          "Chad: 0",
          "Bulgaria: 40",
          "Bouvet Island: 0",
          "Brazil: 8318",
          "Cocos (Keeling) Islands: 0",
          "Colombia: 1493",
          "Canada: 2237",
          "Burkina Faso: 0",
          "Burundi: 0",
          "Costa Rica: 75",
          "Cape Verde: 0",
          "Cayman Islands: 0",
          "Cook Islands: 0",
          "China: 6",
          "Curaçao: 0",
          "Cyprus: 0",
          "Christmas Island: 0",
          "Chile: 1529",
          "Dominican Republic: 286",
          "Comoros: 0",
          "Congo: 0",
          "DRC: 0",
          "Dominica: 0",
          "Equatorial Guinea: 0",
          "Côte d'Ivoire: 0",
          "Croatia: 8",
          "Cuba: 1",
          "Eritrea: 0",
          "Czechia: 16",
          "Denmark: 3",
          "Djibouti: 0",
          "Fiji: 0",
          "Faroe Islands: 0",
          "El Salvador: 487",
          "Egypt: 41",
          "French Southern Territories: 0",
          "French Polynesia: 0",
          "Ecuador: 350",
          "Ghana: 8",
          "Estonia: 1",
          "Ethiopia: 66",
          "Germany: 261",
          "Falkland Islands: 0",
          "Finland: 0",
          "Grenada: 0",
          "France: 385",
          "Guadeloupe: 3",
          "Gabon: 11",
          "French Guiana: 30",
          "Guinea: 24",
          "Gambia: 0",
          "Guinea-Bissau: 5",
          "Honduras: 59",
          "Gibraltar: 0",
          "Georgia: 5",
          "Greece: 8",
          "Greenland: 0",
          "Vatican City: 0",
          "Guatemala: 5",
          "Indonesia: 0",
          "Guernsey: 0",
          "India: 8944",
          "Guam: 190",
          "Isle of Man: 0",
          "Israel: 328",
          "Guyana: 4",
          "Hong Kong: 39",
          "Haiti: 0",
          "Heard Island and McDonald Islands: 0",
          "Jersey: 0",
          "Hungary: 6",
          "Iceland: 0",
          "Iran: 4027",
          "Iraq: 433",
          "Ireland: 4",
          "Italy: 38",
          "Jamaica: 0",
          "Japan: 81",
          "Korea, Democratic People's Republic of: 0",
          "Latvia: 0",
          "Liechtenstein: 0",
          "Madagascar: 102",
          "Malta: 0",
          "Mayotte: 1",
          "Mongolia: 4",
          "Myanmar: 0",
          "New Caledonia: 0",
          "Niue: 0",
          "Jordan: 3",
          "S. Korea: 12",
          "Lebanon: 29",
          "Lithuania: 6",
          "Malawi: 4",
          "Marshall Islands: 0",
          "Kenya: 44",
          "Mexico: 3922",
          "Kyrgyzstan: 24",
          "Montenegro: 7",
          "Kiribati: 0",
          "Liberia: 0",
          "Laos: 0",
          "Macao: 0",
          "Libya: 0",
          "Maldives: 12",
          "North Macedonia: 55",
          "Mauritania: 3",
          "Mali: 0",
          "Mauritius: 0",
          "Namibia: 24",
          "Pakistan: 1179",
          "Moldova: 362",
          "New Zealand: 0",
          "Morocco: 31",
          "Norfolk Island: 0",
          "Nepal: 0",
          "Paraguay: 8",
          "Niger: 0",
          "Monaco: 0",
          "Mozambique: 0",
          "Netherlands: 21",
          "Norway: 2",
          "Nigeria: 7",
          "Portugal: 41",
          "Oman: 184",
          "Russia: 2300",
          "Saint Lucia: 0",
          "San Marino: 0",
          "Palau: 0",
          "Seychelles: 0",
          "Peru: 1423",
          "Slovenia: 3",
          "Puerto Rico: 14",
          "South Sudan: 0",
          "Rwanda: 0",
          "Svalbard and Jan Mayen: 0",
          "Saint Martin: 1",
          "Taiwan: 0",
          "Sao Tome and Principe: 0",
          "Togo: 2",
          "Sierra Leone: 0",
          "Turkey: 1280",
          "Solomon Islands: 0",
          "Ukraine: 99",
          "Spain: 617",
          "Uruguay: 6",
          "Swaziland: 0",
          "British Virgin Islands: 0",
          "Tajikistan: 0",
          "Tokelau: 0",
          "Turkmenistan: 0",
          "United Arab Emirates: 0",
          "Uzbekistan: 138",
          "U.S. Virgin Islands: 163",
          "Zimbabwe: 0",
          "Kazakhstan: 221",
          "Kuwait: 125",
          "Lesotho: 0",
          "Luxembourg: 5",
          "Malaysia: 2",
          "Martinique: 4",
          "Micronesia, Federated States of: 0",
          "Montserrat: 0",
          "Nauru: 0",
          "Nicaragua: 0",
          "Northern Mariana Islands: 0",
          "Panama: 158",
          "Pitcairn: 0",
          "Réunion: 4",
          "Saint Helena, Ascension and Tristan da Cunha: 0",
          "Saint Vincent Grenadines: 0",
          "Senegal: 50",
          "Sint Maarten: 0",
          "South Africa: 539",
          "Sudan: 0",
          "Switzerland: 20",
          "Thailand: 1",
          "Trinidad and Tobago: 0",
          "Tuvalu: 0",
          "USA: 18852",
          "Venezuela: 26",
          "Papua New Guinea: 0",
          "Poland: 66",
          "Romania: 377",
          "Saint Kitts and Nevis: 0",
          "Samoa: 0",
          "Serbia: 143",
          "Slovakia: 2",
          "South Georgia and the South Sandwich Islands: 0",
          "Suriname: 11",
          "Syria: 0",
          "Timor-Leste: 0",
          "Tunisia: 3",
          "Uganda: 0",
          "United States Minor Outlying Islands: 0",
          "Vietnam: 0",
          "Palestine: 0",
          "Philippines: 351",
          "Qatar: 97",
          "Saint Barth: 0",
          "Saint Pierre Miquelon: 0",
          "Saudi Arabia: 2063",
          "Singapore: 0",
          "Somalia: 2",
          "Sri Lanka: 1",
          "Sweden: 43",
          "Tanzania: 7",
          "Tonga: 0",
          "Turks and Caicos: 1",
          "UK: 94",
          "Vanuatu: 0",
          "Wallis and Futuna: 0",
          "Zambia: 18",
          "Western Sahara: 0",
          "Yemen: 0"
         ],
         "type": "scattergeo"
        }
       ],
       "layout": {
        "geo": {
         "bgcolor": "rgba(0,0,0,0)",
         "lakecolor": "#4E5D6C",
         "landcolor": "rgba(31,96,123,0.7)",
         "scope": "world",
         "subunitcolor": "grey"
        },
        "template": {
         "data": {
          "bar": [
           {
            "error_x": {
             "color": "#f2f5fa"
            },
            "error_y": {
             "color": "#f2f5fa"
            },
            "marker": {
             "line": {
              "color": "rgb(17,17,17)",
              "width": 0.5
             }
            },
            "type": "bar"
           }
          ],
          "barpolar": [
           {
            "marker": {
             "line": {
              "color": "rgb(17,17,17)",
              "width": 0.5
             }
            },
            "type": "barpolar"
           }
          ],
          "carpet": [
           {
            "aaxis": {
             "endlinecolor": "#A2B1C6",
             "gridcolor": "#506784",
             "linecolor": "#506784",
             "minorgridcolor": "#506784",
             "startlinecolor": "#A2B1C6"
            },
            "baxis": {
             "endlinecolor": "#A2B1C6",
             "gridcolor": "#506784",
             "linecolor": "#506784",
             "minorgridcolor": "#506784",
             "startlinecolor": "#A2B1C6"
            },
            "type": "carpet"
           }
          ],
          "choropleth": [
           {
            "colorbar": {
             "outlinewidth": 0,
             "ticks": ""
            },
            "type": "choropleth"
           }
          ],
          "contour": [
           {
            "colorbar": {
             "outlinewidth": 0,
             "ticks": ""
            },
            "colorscale": [
             [
              0,
              "#0d0887"
             ],
             [
              0.1111111111111111,
              "#46039f"
             ],
             [
              0.2222222222222222,
              "#7201a8"
             ],
             [
              0.3333333333333333,
              "#9c179e"
             ],
             [
              0.4444444444444444,
              "#bd3786"
             ],
             [
              0.5555555555555556,
              "#d8576b"
             ],
             [
              0.6666666666666666,
              "#ed7953"
             ],
             [
              0.7777777777777778,
              "#fb9f3a"
             ],
             [
              0.8888888888888888,
              "#fdca26"
             ],
             [
              1,
              "#f0f921"
             ]
            ],
            "type": "contour"
           }
          ],
          "contourcarpet": [
           {
            "colorbar": {
             "outlinewidth": 0,
             "ticks": ""
            },
            "type": "contourcarpet"
           }
          ],
          "heatmap": [
           {
            "colorbar": {
             "outlinewidth": 0,
             "ticks": ""
            },
            "colorscale": [
             [
              0,
              "#0d0887"
             ],
             [
              0.1111111111111111,
              "#46039f"
             ],
             [
              0.2222222222222222,
              "#7201a8"
             ],
             [
              0.3333333333333333,
              "#9c179e"
             ],
             [
              0.4444444444444444,
              "#bd3786"
             ],
             [
              0.5555555555555556,
              "#d8576b"
             ],
             [
              0.6666666666666666,
              "#ed7953"
             ],
             [
              0.7777777777777778,
              "#fb9f3a"
             ],
             [
              0.8888888888888888,
              "#fdca26"
             ],
             [
              1,
              "#f0f921"
             ]
            ],
            "type": "heatmap"
           }
          ],
          "heatmapgl": [
           {
            "colorbar": {
             "outlinewidth": 0,
             "ticks": ""
            },
            "colorscale": [
             [
              0,
              "#0d0887"
             ],
             [
              0.1111111111111111,
              "#46039f"
             ],
             [
              0.2222222222222222,
              "#7201a8"
             ],
             [
              0.3333333333333333,
              "#9c179e"
             ],
             [
              0.4444444444444444,
              "#bd3786"
             ],
             [
              0.5555555555555556,
              "#d8576b"
             ],
             [
              0.6666666666666666,
              "#ed7953"
             ],
             [
              0.7777777777777778,
              "#fb9f3a"
             ],
             [
              0.8888888888888888,
              "#fdca26"
             ],
             [
              1,
              "#f0f921"
             ]
            ],
            "type": "heatmapgl"
           }
          ],
          "histogram": [
           {
            "marker": {
             "colorbar": {
              "outlinewidth": 0,
              "ticks": ""
             }
            },
            "type": "histogram"
           }
          ],
          "histogram2d": [
           {
            "colorbar": {
             "outlinewidth": 0,
             "ticks": ""
            },
            "colorscale": [
             [
              0,
              "#0d0887"
             ],
             [
              0.1111111111111111,
              "#46039f"
             ],
             [
              0.2222222222222222,
              "#7201a8"
             ],
             [
              0.3333333333333333,
              "#9c179e"
             ],
             [
              0.4444444444444444,
              "#bd3786"
             ],
             [
              0.5555555555555556,
              "#d8576b"
             ],
             [
              0.6666666666666666,
              "#ed7953"
             ],
             [
              0.7777777777777778,
              "#fb9f3a"
             ],
             [
              0.8888888888888888,
              "#fdca26"
             ],
             [
              1,
              "#f0f921"
             ]
            ],
            "type": "histogram2d"
           }
          ],
          "histogram2dcontour": [
           {
            "colorbar": {
             "outlinewidth": 0,
             "ticks": ""
            },
            "colorscale": [
             [
              0,
              "#0d0887"
             ],
             [
              0.1111111111111111,
              "#46039f"
             ],
             [
              0.2222222222222222,
              "#7201a8"
             ],
             [
              0.3333333333333333,
              "#9c179e"
             ],
             [
              0.4444444444444444,
              "#bd3786"
             ],
             [
              0.5555555555555556,
              "#d8576b"
             ],
             [
              0.6666666666666666,
              "#ed7953"
             ],
             [
              0.7777777777777778,
              "#fb9f3a"
             ],
             [
              0.8888888888888888,
              "#fdca26"
             ],
             [
              1,
              "#f0f921"
             ]
            ],
            "type": "histogram2dcontour"
           }
          ],
          "mesh3d": [
           {
            "colorbar": {
             "outlinewidth": 0,
             "ticks": ""
            },
            "type": "mesh3d"
           }
          ],
          "parcoords": [
           {
            "line": {
             "colorbar": {
              "outlinewidth": 0,
              "ticks": ""
             }
            },
            "type": "parcoords"
           }
          ],
          "pie": [
           {
            "automargin": true,
            "type": "pie"
           }
          ],
          "scatter": [
           {
            "marker": {
             "line": {
              "color": "#283442"
             }
            },
            "type": "scatter"
           }
          ],
          "scatter3d": [
           {
            "line": {
             "colorbar": {
              "outlinewidth": 0,
              "ticks": ""
             }
            },
            "marker": {
             "colorbar": {
              "outlinewidth": 0,
              "ticks": ""
             }
            },
            "type": "scatter3d"
           }
          ],
          "scattercarpet": [
           {
            "marker": {
             "colorbar": {
              "outlinewidth": 0,
              "ticks": ""
             }
            },
            "type": "scattercarpet"
           }
          ],
          "scattergeo": [
           {
            "marker": {
             "colorbar": {
              "outlinewidth": 0,
              "ticks": ""
             }
            },
            "type": "scattergeo"
           }
          ],
          "scattergl": [
           {
            "marker": {
             "line": {
              "color": "#283442"
             }
            },
            "type": "scattergl"
           }
          ],
          "scattermapbox": [
           {
            "marker": {
             "colorbar": {
              "outlinewidth": 0,
              "ticks": ""
             }
            },
            "type": "scattermapbox"
           }
          ],
          "scatterpolar": [
           {
            "marker": {
             "colorbar": {
              "outlinewidth": 0,
              "ticks": ""
             }
            },
            "type": "scatterpolar"
           }
          ],
          "scatterpolargl": [
           {
            "marker": {
             "colorbar": {
              "outlinewidth": 0,
              "ticks": ""
             }
            },
            "type": "scatterpolargl"
           }
          ],
          "scatterternary": [
           {
            "marker": {
             "colorbar": {
              "outlinewidth": 0,
              "ticks": ""
             }
            },
            "type": "scatterternary"
           }
          ],
          "surface": [
           {
            "colorbar": {
             "outlinewidth": 0,
             "ticks": ""
            },
            "colorscale": [
             [
              0,
              "#0d0887"
             ],
             [
              0.1111111111111111,
              "#46039f"
             ],
             [
              0.2222222222222222,
              "#7201a8"
             ],
             [
              0.3333333333333333,
              "#9c179e"
             ],
             [
              0.4444444444444444,
              "#bd3786"
             ],
             [
              0.5555555555555556,
              "#d8576b"
             ],
             [
              0.6666666666666666,
              "#ed7953"
             ],
             [
              0.7777777777777778,
              "#fb9f3a"
             ],
             [
              0.8888888888888888,
              "#fdca26"
             ],
             [
              1,
              "#f0f921"
             ]
            ],
            "type": "surface"
           }
          ],
          "table": [
           {
            "cells": {
             "fill": {
              "color": "#506784"
             },
             "line": {
              "color": "rgb(17,17,17)"
             }
            },
            "header": {
             "fill": {
              "color": "#2a3f5f"
             },
             "line": {
              "color": "rgb(17,17,17)"
             }
            },
            "type": "table"
           }
          ]
         },
         "layout": {
          "annotationdefaults": {
           "arrowcolor": "#f2f5fa",
           "arrowhead": 0,
           "arrowwidth": 1
          },
          "coloraxis": {
           "colorbar": {
            "outlinewidth": 0,
            "ticks": ""
           }
          },
          "colorscale": {
           "diverging": [
            [
             0,
             "#8e0152"
            ],
            [
             0.1,
             "#c51b7d"
            ],
            [
             0.2,
             "#de77ae"
            ],
            [
             0.3,
             "#f1b6da"
            ],
            [
             0.4,
             "#fde0ef"
            ],
            [
             0.5,
             "#f7f7f7"
            ],
            [
             0.6,
             "#e6f5d0"
            ],
            [
             0.7,
             "#b8e186"
            ],
            [
             0.8,
             "#7fbc41"
            ],
            [
             0.9,
             "#4d9221"
            ],
            [
             1,
             "#276419"
            ]
           ],
           "sequential": [
            [
             0,
             "#0d0887"
            ],
            [
             0.1111111111111111,
             "#46039f"
            ],
            [
             0.2222222222222222,
             "#7201a8"
            ],
            [
             0.3333333333333333,
             "#9c179e"
            ],
            [
             0.4444444444444444,
             "#bd3786"
            ],
            [
             0.5555555555555556,
             "#d8576b"
            ],
            [
             0.6666666666666666,
             "#ed7953"
            ],
            [
             0.7777777777777778,
             "#fb9f3a"
            ],
            [
             0.8888888888888888,
             "#fdca26"
            ],
            [
             1,
             "#f0f921"
            ]
           ],
           "sequentialminus": [
            [
             0,
             "#0d0887"
            ],
            [
             0.1111111111111111,
             "#46039f"
            ],
            [
             0.2222222222222222,
             "#7201a8"
            ],
            [
             0.3333333333333333,
             "#9c179e"
            ],
            [
             0.4444444444444444,
             "#bd3786"
            ],
            [
             0.5555555555555556,
             "#d8576b"
            ],
            [
             0.6666666666666666,
             "#ed7953"
            ],
            [
             0.7777777777777778,
             "#fb9f3a"
            ],
            [
             0.8888888888888888,
             "#fdca26"
            ],
            [
             1,
             "#f0f921"
            ]
           ]
          },
          "colorway": [
           "#636efa",
           "#EF553B",
           "#00cc96",
           "#ab63fa",
           "#FFA15A",
           "#19d3f3",
           "#FF6692",
           "#B6E880",
           "#FF97FF",
           "#FECB52"
          ],
          "font": {
           "color": "#f2f5fa"
          },
          "geo": {
           "bgcolor": "rgb(17,17,17)",
           "lakecolor": "rgb(17,17,17)",
           "landcolor": "rgb(17,17,17)",
           "showlakes": true,
           "showland": true,
           "subunitcolor": "#506784"
          },
          "hoverlabel": {
           "align": "left"
          },
          "hovermode": "closest",
          "mapbox": {
           "style": "dark"
          },
          "paper_bgcolor": "rgb(17,17,17)",
          "plot_bgcolor": "rgb(17,17,17)",
          "polar": {
           "angularaxis": {
            "gridcolor": "#506784",
            "linecolor": "#506784",
            "ticks": ""
           },
           "bgcolor": "rgb(17,17,17)",
           "radialaxis": {
            "gridcolor": "#506784",
            "linecolor": "#506784",
            "ticks": ""
           }
          },
          "scene": {
           "xaxis": {
            "backgroundcolor": "rgb(17,17,17)",
            "gridcolor": "#506784",
            "gridwidth": 2,
            "linecolor": "#506784",
            "showbackground": true,
            "ticks": "",
            "zerolinecolor": "#C8D4E3"
           },
           "yaxis": {
            "backgroundcolor": "rgb(17,17,17)",
            "gridcolor": "#506784",
            "gridwidth": 2,
            "linecolor": "#506784",
            "showbackground": true,
            "ticks": "",
            "zerolinecolor": "#C8D4E3"
           },
           "zaxis": {
            "backgroundcolor": "rgb(17,17,17)",
            "gridcolor": "#506784",
            "gridwidth": 2,
            "linecolor": "#506784",
            "showbackground": true,
            "ticks": "",
            "zerolinecolor": "#C8D4E3"
           }
          },
          "shapedefaults": {
           "line": {
            "color": "#f2f5fa"
           }
          },
          "sliderdefaults": {
           "bgcolor": "#C8D4E3",
           "bordercolor": "rgb(17,17,17)",
           "borderwidth": 1,
           "tickwidth": 0
          },
          "ternary": {
           "aaxis": {
            "gridcolor": "#506784",
            "linecolor": "#506784",
            "ticks": ""
           },
           "baxis": {
            "gridcolor": "#506784",
            "linecolor": "#506784",
            "ticks": ""
           },
           "bgcolor": "rgb(17,17,17)",
           "caxis": {
            "gridcolor": "#506784",
            "linecolor": "#506784",
            "ticks": ""
           }
          },
          "title": {
           "x": 0.05
          },
          "updatemenudefaults": {
           "bgcolor": "#506784",
           "borderwidth": 0
          },
          "xaxis": {
           "automargin": true,
           "gridcolor": "#283442",
           "linecolor": "#506784",
           "ticks": "",
           "title": {
            "standoff": 15
           },
           "zerolinecolor": "#283442",
           "zerolinewidth": 2
          },
          "yaxis": {
           "automargin": true,
           "gridcolor": "#283442",
           "linecolor": "#506784",
           "ticks": "",
           "title": {
            "standoff": 15
           },
           "zerolinecolor": "#283442",
           "zerolinewidth": 2
          }
         }
        },
        "title": {
         "text": "COVID-19 Cases Distribution"
        }
       }
      },
      "text/html": [
       "<div>\n",
       "        \n",
       "        \n",
       "            <div id=\"fd9b2129-58b0-47e6-830e-5a04b1639fec\" class=\"plotly-graph-div\" style=\"height:525px; width:100%;\"></div>\n",
       "            <script type=\"text/javascript\">\n",
       "                require([\"plotly\"], function(Plotly) {\n",
       "                    window.PLOTLYENV=window.PLOTLYENV || {};\n",
       "                    \n",
       "                if (document.getElementById(\"fd9b2129-58b0-47e6-830e-5a04b1639fec\")) {\n",
       "                    Plotly.newPlot(\n",
       "                        'fd9b2129-58b0-47e6-830e-5a04b1639fec',\n",
       "                        [{\"lat\": [33.0, 41.0, 0.0, 0.0, 28.0, 42.5, 0.0, 0.0, 17.05, 0.0, -27.0, 47.3333, 26.0, 24.0, 9.5, 0.0, -34.0, 40.0, 44.0, 12.5, 40.5, 24.25, 0.0, 0.0, 53.0, 13.1667, 0.0, 32.3333, 50.8333, 6.0, 27.5, 0.0, 13.0, 0.0, 0.0, 0.0, 43.0, 0.0, -10.0, 0.0, 4.0, 60.0, 13.0, 0.0, 10.0, 0.0, 19.5, 0.0, 35.0, null, 35.0, 0.0, -30.0, 19.0, 0.0, -1.0, 0.0, 0.0, 2.0, 0.0, 45.1667, 21.5, 0.0, 49.75, 56.0, 11.5, -18.0, 0.0, 13.8333, 27.0, 0.0, -15.0, -2.0, 8.0, 59.0, 8.0, 51.0, 0.0, 64.0, 0.0, 46.0, 16.25, -1.0, 4.0, 11.0, 13.4667, 0.0, 15.0, 36.1833, 42.0, 39.0, 72.0, 0.0, 15.5, -5.0, 0.0, 20.0, 13.4667, 0.0, 31.5, 5.0, 22.25, 0.0, 0.0, 0.0, 47.0, 65.0, 0.0, 33.0, 53.0, 42.8333, 18.25, 36.0, 0.0, 57.0, 47.1667, 0.0, 35.8333, -12.8333, 46.0, 0.0, -21.5, 0.0, 31.0, 37.0, 33.8333, 56.0, 0.0, 0.0, 1.0, 23.0, 41.0, 42.0, 0.0, 6.5, 0.0, 22.1667, 0.0, 3.25, 0.0, 20.0, 0.0, -20.2833, -22.0, 30.0, 0.0, -41.0, 32.0, 0.0, 28.0, -23.0, 0.0, 43.7333, 0.0, 52.5, 62.0, 10.0, 39.5, 21.0, 0.0, 13.8833, 43.7667, 0.0, -4.5833, -10.0, 46.0, 18.25, 0.0, -2.0, 0.0, 0.0, 0.0, 0.0, 8.0, 0.0, 39.0, 0.0, 49.0, 40.0, -33.0, 0.0, 0.0, 0.0, 0.0, 0.0, 0.0, 41.0, 18.3333, 0.0, 48.0, 29.3375, 0.0, 49.75, 2.5, 14.6667, 0.0, 16.75, 0.0, 13.0, 0.0, 9.0, 0.0, -21.1, 0.0, 0.0, 14.0, 0.0, -29.0, 15.0, 47.0, 15.0, 11.0, 0.0, 38.0, 8.0, 0.0, 52.0, 46.0, 0.0, 0.0, 44.0, 48.6667, 0.0, 4.0, 0.0, 0.0, 34.0, 0.0, 0.0, 0.0, 0.0, 13.0, 25.5, 0.0, 0.0, 25.0, 1.3667, 10.0, 7.0, 62.0, 0.0, 0.0, 0.0, 54.0, 0.0, 0.0, -15.0, 0.0, 0.0], \"lon\": [65.0, 20.0, 0.0, 0.0, 3.0, 1.6, 0.0, 0.0, -61.8, 0.0, 133.0, 13.3333, 50.55, 90.0, 2.25, 0.0, -64.0, 45.0, 18.0, -69.9667, 47.5, -76.0, 0.0, 0.0, 28.0, -59.5333, 0.0, -64.75, 4.0, 12.0, 90.5, 0.0, 105.0, 0.0, 0.0, 0.0, 25.0, 0.0, -55.0, 0.0, -72.0, -95.0, -2.0, 0.0, -84.0, 0.0, -80.5, 0.0, 105.0, null, 33.0, 0.0, -71.0, -70.6667, 0.0, 15.0, 0.0, 0.0, 10.0, 0.0, 15.5, -80.0, 0.0, 15.5, 10.0, 43.0, 175.0, 0.0, -88.9167, 30.0, 0.0, -140.0, -77.5, -2.0, 26.0, 38.0, 9.0, 0.0, 26.0, 0.0, 2.0, -61.5833, 11.75, -53.0, -10.0, -16.5667, 0.0, -86.5, -5.3667, 43.5, 22.0, -40.0, 0.0, -90.25, 120.0, 0.0, 77.0, 144.7833, 0.0, 34.75, -59.0, 114.1667, 0.0, 0.0, 0.0, 20.0, -18.0, 0.0, 44.0, -8.0, 12.8333, -77.5, 138.0, 0.0, 25.0, 9.5333, 0.0, 14.5833, 45.1667, 105.0, 0.0, 165.5, 0.0, 36.0, 127.5, 35.8333, 24.0, 0.0, 0.0, 38.0, -102.0, 75.0, 19.0, 0.0, -9.5, 0.0, 113.55, 0.0, 73.0, 0.0, -12.0, 0.0, 57.55, 17.0, 70.0, 0.0, 174.0, -5.0, 0.0, 84.0, -58.0, 0.0, 7.4, 0.0, 5.75, 10.0, 8.0, -8.0, 57.0, 0.0, -61.1333, 12.4167, 0.0, 55.6667, -76.0, 15.0, -66.5, 0.0, 30.0, 0.0, 0.0, 0.0, 0.0, 1.1667, 0.0, 35.0, 0.0, 32.0, -4.0, -56.0, 0.0, 0.0, 0.0, 0.0, 0.0, 0.0, 64.0, -64.8333, 0.0, 68.0, 47.6581, 0.0, 6.1667, 112.5, -61.0, 0.0, -62.2, 0.0, -85.0, 0.0, -80.0, 0.0, 55.6, 0.0, 0.0, -14.0, 0.0, 24.0, 30.0, 8.0, 100.0, -61.0, 0.0, -97.0, -66.0, 0.0, 20.0, 25.0, 0.0, 0.0, 21.0, 19.5, 0.0, -56.0, 0.0, 0.0, 9.0, 0.0, 0.0, 0.0, 0.0, 122.0, 51.25, 0.0, 0.0, 45.0, 103.8, 49.0, 81.0, 15.0, 0.0, 0.0, 0.0, -2.0, 0.0, 0.0, 30.0, 0.0, 0.0], \"marker\": {\"autocolorscale\": false, \"cmax\": 18852, \"cmin\": 0, \"color\": [31, 17, 0, 0, 70, 0, 15, 0, 1, 0, 46, 20, 41, 1, 1, 0, 1002, 10, 0, 0, 66, 1, 0, 0, 0, 0, 0, 0, 49, 30, 0, 71, 1, 2, 1, 0, 40, 0, 8318, 0, 1493, 2237, 0, 0, 75, 0, 0, 0, 6, 0, 0, 0, 1529, 286, 0, 0, 0, 0, 0, 0, 8, 1, 0, 16, 3, 0, 0, 0, 487, 41, 0, 0, 350, 8, 1, 66, 261, 0, 0, 0, 385, 3, 11, 30, 24, 0, 5, 59, 0, 5, 8, 0, 0, 5, 0, 0, 8944, 190, 0, 328, 4, 39, 0, 0, 0, 6, 0, 4027, 433, 4, 38, 0, 81, 0, 0, 0, 102, 0, 1, 4, 0, 0, 0, 3, 12, 29, 6, 4, 0, 44, 3922, 24, 7, 0, 0, 0, 0, 0, 12, 55, 3, 0, 0, 24, 1179, 362, 0, 31, 0, 0, 8, 0, 0, 0, 21, 2, 7, 41, 184, 2300, 0, 0, 0, 0, 1423, 3, 14, 0, 0, 0, 1, 0, 0, 2, 0, 1280, 0, 99, 617, 6, 0, 0, 0, 0, 0, 0, 138, 163, 0, 221, 125, 0, 5, 2, 4, 0, 0, 0, 0, 0, 158, 0, 4, 0, 0, 50, 0, 539, 0, 20, 1, 0, 0, 18852, 26, 0, 66, 377, 0, 0, 143, 2, 0, 11, 0, 0, 3, 0, 0, 0, 0, 351, 97, 0, 0, 2063, 0, 2, 1, 43, 7, 0, 1, 94, 0, 0, 18, 0, 0], \"colorbar\": {\"title\": {\"text\": \"Cases per<br>million population\"}}, \"colorscale\": [[0.0, \"rgb(255,245,240)\"], [0.125, \"rgb(254,224,210)\"], [0.25, \"rgb(252,187,161)\"], [0.375, \"rgb(252,146,114)\"], [0.5, \"rgb(251,106,74)\"], [0.625, \"rgb(239,59,44)\"], [0.75, \"rgb(203,24,29)\"], [0.875, \"rgb(165,15,21)\"], [1.0, \"rgb(103,0,13)\"]], \"line\": {\"color\": \"rgba(102, 102, 102)\", \"width\": 1}, \"opacity\": 0.8, \"reversescale\": false, \"size\": 10, \"symbol\": \"circle\"}, \"mode\": \"markers\", \"text\": [\"Afghanistan: 31\", \"Albania: 17\", \"\\u00c5land Islands: 0\", \"American Samoa: 0\", \"Algeria: 70\", \"Andorra: 0\", \"Angola: 15\", \"Anguilla: 0\", \"Antigua and Barbuda: 1\", \"Antarctica: 0\", \"Australia: 46\", \"Austria: 20\", \"Bahrain: 41\", \"Bangladesh: 1\", \"Benin: 1\", \"Belize: 0\", \"Argentina: 1002\", \"Armenia: 10\", \"Bosnia and Herzegovina: 0\", \"Aruba: 0\", \"Azerbaijan: 66\", \"Bahamas: 1\", \"Brunei : 0\", \"Bonaire, Sint Eustatius and Saba: 0\", \"Belarus: 0\", \"Barbados: 0\", \"British Indian Ocean Territory: 0\", \"Bermuda: 0\", \"Belgium: 49\", \"Cameroon: 30\", \"Bhutan: 0\", \"Bolivia: 71\", \"Cambodia: 1\", \"CAR: 2\", \"Botswana: 1\", \"Chad: 0\", \"Bulgaria: 40\", \"Bouvet Island: 0\", \"Brazil: 8318\", \"Cocos (Keeling) Islands: 0\", \"Colombia: 1493\", \"Canada: 2237\", \"Burkina Faso: 0\", \"Burundi: 0\", \"Costa Rica: 75\", \"Cape Verde: 0\", \"Cayman Islands: 0\", \"Cook Islands: 0\", \"China: 6\", \"Cura\\u00e7ao: 0\", \"Cyprus: 0\", \"Christmas Island: 0\", \"Chile: 1529\", \"Dominican Republic: 286\", \"Comoros: 0\", \"Congo: 0\", \"DRC: 0\", \"Dominica: 0\", \"Equatorial Guinea: 0\", \"C\\u00f4te d'Ivoire: 0\", \"Croatia: 8\", \"Cuba: 1\", \"Eritrea: 0\", \"Czechia: 16\", \"Denmark: 3\", \"Djibouti: 0\", \"Fiji: 0\", \"Faroe Islands: 0\", \"El Salvador: 487\", \"Egypt: 41\", \"French Southern Territories: 0\", \"French Polynesia: 0\", \"Ecuador: 350\", \"Ghana: 8\", \"Estonia: 1\", \"Ethiopia: 66\", \"Germany: 261\", \"Falkland Islands: 0\", \"Finland: 0\", \"Grenada: 0\", \"France: 385\", \"Guadeloupe: 3\", \"Gabon: 11\", \"French Guiana: 30\", \"Guinea: 24\", \"Gambia: 0\", \"Guinea-Bissau: 5\", \"Honduras: 59\", \"Gibraltar: 0\", \"Georgia: 5\", \"Greece: 8\", \"Greenland: 0\", \"Vatican City: 0\", \"Guatemala: 5\", \"Indonesia: 0\", \"Guernsey: 0\", \"India: 8944\", \"Guam: 190\", \"Isle of Man: 0\", \"Israel: 328\", \"Guyana: 4\", \"Hong Kong: 39\", \"Haiti: 0\", \"Heard Island and McDonald Islands: 0\", \"Jersey: 0\", \"Hungary: 6\", \"Iceland: 0\", \"Iran: 4027\", \"Iraq: 433\", \"Ireland: 4\", \"Italy: 38\", \"Jamaica: 0\", \"Japan: 81\", \"Korea, Democratic People's Republic of: 0\", \"Latvia: 0\", \"Liechtenstein: 0\", \"Madagascar: 102\", \"Malta: 0\", \"Mayotte: 1\", \"Mongolia: 4\", \"Myanmar: 0\", \"New Caledonia: 0\", \"Niue: 0\", \"Jordan: 3\", \"S. Korea: 12\", \"Lebanon: 29\", \"Lithuania: 6\", \"Malawi: 4\", \"Marshall Islands: 0\", \"Kenya: 44\", \"Mexico: 3922\", \"Kyrgyzstan: 24\", \"Montenegro: 7\", \"Kiribati: 0\", \"Liberia: 0\", \"Laos: 0\", \"Macao: 0\", \"Libya: 0\", \"Maldives: 12\", \"North Macedonia: 55\", \"Mauritania: 3\", \"Mali: 0\", \"Mauritius: 0\", \"Namibia: 24\", \"Pakistan: 1179\", \"Moldova: 362\", \"New Zealand: 0\", \"Morocco: 31\", \"Norfolk Island: 0\", \"Nepal: 0\", \"Paraguay: 8\", \"Niger: 0\", \"Monaco: 0\", \"Mozambique: 0\", \"Netherlands: 21\", \"Norway: 2\", \"Nigeria: 7\", \"Portugal: 41\", \"Oman: 184\", \"Russia: 2300\", \"Saint Lucia: 0\", \"San Marino: 0\", \"Palau: 0\", \"Seychelles: 0\", \"Peru: 1423\", \"Slovenia: 3\", \"Puerto Rico: 14\", \"South Sudan: 0\", \"Rwanda: 0\", \"Svalbard and Jan Mayen: 0\", \"Saint Martin: 1\", \"Taiwan: 0\", \"Sao Tome and Principe: 0\", \"Togo: 2\", \"Sierra Leone: 0\", \"Turkey: 1280\", \"Solomon Islands: 0\", \"Ukraine: 99\", \"Spain: 617\", \"Uruguay: 6\", \"Swaziland: 0\", \"British Virgin Islands: 0\", \"Tajikistan: 0\", \"Tokelau: 0\", \"Turkmenistan: 0\", \"United Arab Emirates: 0\", \"Uzbekistan: 138\", \"U.S. Virgin Islands: 163\", \"Zimbabwe: 0\", \"Kazakhstan: 221\", \"Kuwait: 125\", \"Lesotho: 0\", \"Luxembourg: 5\", \"Malaysia: 2\", \"Martinique: 4\", \"Micronesia, Federated States of: 0\", \"Montserrat: 0\", \"Nauru: 0\", \"Nicaragua: 0\", \"Northern Mariana Islands: 0\", \"Panama: 158\", \"Pitcairn: 0\", \"R\\u00e9union: 4\", \"Saint Helena, Ascension and Tristan da Cunha: 0\", \"Saint Vincent Grenadines: 0\", \"Senegal: 50\", \"Sint Maarten: 0\", \"South Africa: 539\", \"Sudan: 0\", \"Switzerland: 20\", \"Thailand: 1\", \"Trinidad and Tobago: 0\", \"Tuvalu: 0\", \"USA: 18852\", \"Venezuela: 26\", \"Papua New Guinea: 0\", \"Poland: 66\", \"Romania: 377\", \"Saint Kitts and Nevis: 0\", \"Samoa: 0\", \"Serbia: 143\", \"Slovakia: 2\", \"South Georgia and the South Sandwich Islands: 0\", \"Suriname: 11\", \"Syria: 0\", \"Timor-Leste: 0\", \"Tunisia: 3\", \"Uganda: 0\", \"United States Minor Outlying Islands: 0\", \"Vietnam: 0\", \"Palestine: 0\", \"Philippines: 351\", \"Qatar: 97\", \"Saint Barth: 0\", \"Saint Pierre Miquelon: 0\", \"Saudi Arabia: 2063\", \"Singapore: 0\", \"Somalia: 2\", \"Sri Lanka: 1\", \"Sweden: 43\", \"Tanzania: 7\", \"Tonga: 0\", \"Turks and Caicos: 1\", \"UK: 94\", \"Vanuatu: 0\", \"Wallis and Futuna: 0\", \"Zambia: 18\", \"Western Sahara: 0\", \"Yemen: 0\"], \"type\": \"scattergeo\"}],\n",
       "                        {\"geo\": {\"bgcolor\": \"rgba(0,0,0,0)\", \"lakecolor\": \"#4E5D6C\", \"landcolor\": \"rgba(31,96,123,0.7)\", \"scope\": \"world\", \"subunitcolor\": \"grey\"}, \"template\": {\"data\": {\"bar\": [{\"error_x\": {\"color\": \"#f2f5fa\"}, \"error_y\": {\"color\": \"#f2f5fa\"}, \"marker\": {\"line\": {\"color\": \"rgb(17,17,17)\", \"width\": 0.5}}, \"type\": \"bar\"}], \"barpolar\": [{\"marker\": {\"line\": {\"color\": \"rgb(17,17,17)\", \"width\": 0.5}}, \"type\": \"barpolar\"}], \"carpet\": [{\"aaxis\": {\"endlinecolor\": \"#A2B1C6\", \"gridcolor\": \"#506784\", \"linecolor\": \"#506784\", \"minorgridcolor\": \"#506784\", \"startlinecolor\": \"#A2B1C6\"}, \"baxis\": {\"endlinecolor\": \"#A2B1C6\", \"gridcolor\": \"#506784\", \"linecolor\": \"#506784\", \"minorgridcolor\": \"#506784\", \"startlinecolor\": \"#A2B1C6\"}, \"type\": \"carpet\"}], \"choropleth\": [{\"colorbar\": {\"outlinewidth\": 0, \"ticks\": \"\"}, \"type\": \"choropleth\"}], \"contour\": [{\"colorbar\": {\"outlinewidth\": 0, \"ticks\": \"\"}, \"colorscale\": [[0.0, \"#0d0887\"], [0.1111111111111111, \"#46039f\"], [0.2222222222222222, \"#7201a8\"], [0.3333333333333333, \"#9c179e\"], [0.4444444444444444, \"#bd3786\"], [0.5555555555555556, \"#d8576b\"], [0.6666666666666666, \"#ed7953\"], [0.7777777777777778, \"#fb9f3a\"], [0.8888888888888888, \"#fdca26\"], [1.0, \"#f0f921\"]], \"type\": \"contour\"}], \"contourcarpet\": [{\"colorbar\": {\"outlinewidth\": 0, \"ticks\": \"\"}, \"type\": \"contourcarpet\"}], \"heatmap\": [{\"colorbar\": {\"outlinewidth\": 0, \"ticks\": \"\"}, \"colorscale\": [[0.0, \"#0d0887\"], [0.1111111111111111, \"#46039f\"], [0.2222222222222222, \"#7201a8\"], [0.3333333333333333, \"#9c179e\"], [0.4444444444444444, \"#bd3786\"], [0.5555555555555556, \"#d8576b\"], [0.6666666666666666, \"#ed7953\"], [0.7777777777777778, \"#fb9f3a\"], [0.8888888888888888, \"#fdca26\"], [1.0, \"#f0f921\"]], \"type\": \"heatmap\"}], \"heatmapgl\": [{\"colorbar\": {\"outlinewidth\": 0, \"ticks\": \"\"}, \"colorscale\": [[0.0, \"#0d0887\"], [0.1111111111111111, \"#46039f\"], [0.2222222222222222, \"#7201a8\"], [0.3333333333333333, \"#9c179e\"], [0.4444444444444444, \"#bd3786\"], [0.5555555555555556, \"#d8576b\"], [0.6666666666666666, \"#ed7953\"], [0.7777777777777778, \"#fb9f3a\"], [0.8888888888888888, \"#fdca26\"], [1.0, \"#f0f921\"]], \"type\": \"heatmapgl\"}], \"histogram\": [{\"marker\": {\"colorbar\": {\"outlinewidth\": 0, \"ticks\": \"\"}}, \"type\": \"histogram\"}], \"histogram2d\": [{\"colorbar\": {\"outlinewidth\": 0, \"ticks\": \"\"}, \"colorscale\": [[0.0, \"#0d0887\"], [0.1111111111111111, \"#46039f\"], [0.2222222222222222, \"#7201a8\"], [0.3333333333333333, \"#9c179e\"], [0.4444444444444444, \"#bd3786\"], [0.5555555555555556, \"#d8576b\"], [0.6666666666666666, \"#ed7953\"], [0.7777777777777778, \"#fb9f3a\"], [0.8888888888888888, \"#fdca26\"], [1.0, \"#f0f921\"]], \"type\": \"histogram2d\"}], \"histogram2dcontour\": [{\"colorbar\": {\"outlinewidth\": 0, \"ticks\": \"\"}, \"colorscale\": [[0.0, \"#0d0887\"], [0.1111111111111111, \"#46039f\"], [0.2222222222222222, \"#7201a8\"], [0.3333333333333333, \"#9c179e\"], [0.4444444444444444, \"#bd3786\"], [0.5555555555555556, \"#d8576b\"], [0.6666666666666666, \"#ed7953\"], [0.7777777777777778, \"#fb9f3a\"], [0.8888888888888888, \"#fdca26\"], [1.0, \"#f0f921\"]], \"type\": \"histogram2dcontour\"}], \"mesh3d\": [{\"colorbar\": {\"outlinewidth\": 0, \"ticks\": \"\"}, \"type\": \"mesh3d\"}], \"parcoords\": [{\"line\": {\"colorbar\": {\"outlinewidth\": 0, \"ticks\": \"\"}}, \"type\": \"parcoords\"}], \"pie\": [{\"automargin\": true, \"type\": \"pie\"}], \"scatter\": [{\"marker\": {\"line\": {\"color\": \"#283442\"}}, \"type\": \"scatter\"}], \"scatter3d\": [{\"line\": {\"colorbar\": {\"outlinewidth\": 0, \"ticks\": \"\"}}, \"marker\": {\"colorbar\": {\"outlinewidth\": 0, \"ticks\": \"\"}}, \"type\": \"scatter3d\"}], \"scattercarpet\": [{\"marker\": {\"colorbar\": {\"outlinewidth\": 0, \"ticks\": \"\"}}, \"type\": \"scattercarpet\"}], \"scattergeo\": [{\"marker\": {\"colorbar\": {\"outlinewidth\": 0, \"ticks\": \"\"}}, \"type\": \"scattergeo\"}], \"scattergl\": [{\"marker\": {\"line\": {\"color\": \"#283442\"}}, \"type\": \"scattergl\"}], \"scattermapbox\": [{\"marker\": {\"colorbar\": {\"outlinewidth\": 0, \"ticks\": \"\"}}, \"type\": \"scattermapbox\"}], \"scatterpolar\": [{\"marker\": {\"colorbar\": {\"outlinewidth\": 0, \"ticks\": \"\"}}, \"type\": \"scatterpolar\"}], \"scatterpolargl\": [{\"marker\": {\"colorbar\": {\"outlinewidth\": 0, \"ticks\": \"\"}}, \"type\": \"scatterpolargl\"}], \"scatterternary\": [{\"marker\": {\"colorbar\": {\"outlinewidth\": 0, \"ticks\": \"\"}}, \"type\": \"scatterternary\"}], \"surface\": [{\"colorbar\": {\"outlinewidth\": 0, \"ticks\": \"\"}, \"colorscale\": [[0.0, \"#0d0887\"], [0.1111111111111111, \"#46039f\"], [0.2222222222222222, \"#7201a8\"], [0.3333333333333333, \"#9c179e\"], [0.4444444444444444, \"#bd3786\"], [0.5555555555555556, \"#d8576b\"], [0.6666666666666666, \"#ed7953\"], [0.7777777777777778, \"#fb9f3a\"], [0.8888888888888888, \"#fdca26\"], [1.0, \"#f0f921\"]], \"type\": \"surface\"}], \"table\": [{\"cells\": {\"fill\": {\"color\": \"#506784\"}, \"line\": {\"color\": \"rgb(17,17,17)\"}}, \"header\": {\"fill\": {\"color\": \"#2a3f5f\"}, \"line\": {\"color\": \"rgb(17,17,17)\"}}, \"type\": \"table\"}]}, \"layout\": {\"annotationdefaults\": {\"arrowcolor\": \"#f2f5fa\", \"arrowhead\": 0, \"arrowwidth\": 1}, \"coloraxis\": {\"colorbar\": {\"outlinewidth\": 0, \"ticks\": \"\"}}, \"colorscale\": {\"diverging\": [[0, \"#8e0152\"], [0.1, \"#c51b7d\"], [0.2, \"#de77ae\"], [0.3, \"#f1b6da\"], [0.4, \"#fde0ef\"], [0.5, \"#f7f7f7\"], [0.6, \"#e6f5d0\"], [0.7, \"#b8e186\"], [0.8, \"#7fbc41\"], [0.9, \"#4d9221\"], [1, \"#276419\"]], \"sequential\": [[0.0, \"#0d0887\"], [0.1111111111111111, \"#46039f\"], [0.2222222222222222, \"#7201a8\"], [0.3333333333333333, \"#9c179e\"], [0.4444444444444444, \"#bd3786\"], [0.5555555555555556, \"#d8576b\"], [0.6666666666666666, \"#ed7953\"], [0.7777777777777778, \"#fb9f3a\"], [0.8888888888888888, \"#fdca26\"], [1.0, \"#f0f921\"]], \"sequentialminus\": [[0.0, \"#0d0887\"], [0.1111111111111111, \"#46039f\"], [0.2222222222222222, \"#7201a8\"], [0.3333333333333333, \"#9c179e\"], [0.4444444444444444, \"#bd3786\"], [0.5555555555555556, \"#d8576b\"], [0.6666666666666666, \"#ed7953\"], [0.7777777777777778, \"#fb9f3a\"], [0.8888888888888888, \"#fdca26\"], [1.0, \"#f0f921\"]]}, \"colorway\": [\"#636efa\", \"#EF553B\", \"#00cc96\", \"#ab63fa\", \"#FFA15A\", \"#19d3f3\", \"#FF6692\", \"#B6E880\", \"#FF97FF\", \"#FECB52\"], \"font\": {\"color\": \"#f2f5fa\"}, \"geo\": {\"bgcolor\": \"rgb(17,17,17)\", \"lakecolor\": \"rgb(17,17,17)\", \"landcolor\": \"rgb(17,17,17)\", \"showlakes\": true, \"showland\": true, \"subunitcolor\": \"#506784\"}, \"hoverlabel\": {\"align\": \"left\"}, \"hovermode\": \"closest\", \"mapbox\": {\"style\": \"dark\"}, \"paper_bgcolor\": \"rgb(17,17,17)\", \"plot_bgcolor\": \"rgb(17,17,17)\", \"polar\": {\"angularaxis\": {\"gridcolor\": \"#506784\", \"linecolor\": \"#506784\", \"ticks\": \"\"}, \"bgcolor\": \"rgb(17,17,17)\", \"radialaxis\": {\"gridcolor\": \"#506784\", \"linecolor\": \"#506784\", \"ticks\": \"\"}}, \"scene\": {\"xaxis\": {\"backgroundcolor\": \"rgb(17,17,17)\", \"gridcolor\": \"#506784\", \"gridwidth\": 2, \"linecolor\": \"#506784\", \"showbackground\": true, \"ticks\": \"\", \"zerolinecolor\": \"#C8D4E3\"}, \"yaxis\": {\"backgroundcolor\": \"rgb(17,17,17)\", \"gridcolor\": \"#506784\", \"gridwidth\": 2, \"linecolor\": \"#506784\", \"showbackground\": true, \"ticks\": \"\", \"zerolinecolor\": \"#C8D4E3\"}, \"zaxis\": {\"backgroundcolor\": \"rgb(17,17,17)\", \"gridcolor\": \"#506784\", \"gridwidth\": 2, \"linecolor\": \"#506784\", \"showbackground\": true, \"ticks\": \"\", \"zerolinecolor\": \"#C8D4E3\"}}, \"shapedefaults\": {\"line\": {\"color\": \"#f2f5fa\"}}, \"sliderdefaults\": {\"bgcolor\": \"#C8D4E3\", \"bordercolor\": \"rgb(17,17,17)\", \"borderwidth\": 1, \"tickwidth\": 0}, \"ternary\": {\"aaxis\": {\"gridcolor\": \"#506784\", \"linecolor\": \"#506784\", \"ticks\": \"\"}, \"baxis\": {\"gridcolor\": \"#506784\", \"linecolor\": \"#506784\", \"ticks\": \"\"}, \"bgcolor\": \"rgb(17,17,17)\", \"caxis\": {\"gridcolor\": \"#506784\", \"linecolor\": \"#506784\", \"ticks\": \"\"}}, \"title\": {\"x\": 0.05}, \"updatemenudefaults\": {\"bgcolor\": \"#506784\", \"borderwidth\": 0}, \"xaxis\": {\"automargin\": true, \"gridcolor\": \"#283442\", \"linecolor\": \"#506784\", \"ticks\": \"\", \"title\": {\"standoff\": 15}, \"zerolinecolor\": \"#283442\", \"zerolinewidth\": 2}, \"yaxis\": {\"automargin\": true, \"gridcolor\": \"#283442\", \"linecolor\": \"#506784\", \"ticks\": \"\", \"title\": {\"standoff\": 15}, \"zerolinecolor\": \"#283442\", \"zerolinewidth\": 2}}}, \"title\": {\"text\": \"COVID-19 Cases Distribution\"}},\n",
       "                        {\"responsive\": true}\n",
       "                    ).then(function(){\n",
       "                            \n",
       "var gd = document.getElementById('fd9b2129-58b0-47e6-830e-5a04b1639fec');\n",
       "var x = new MutationObserver(function (mutations, observer) {{\n",
       "        var display = window.getComputedStyle(gd).display;\n",
       "        if (!display || display === 'none') {{\n",
       "            console.log([gd, 'removed!']);\n",
       "            Plotly.purge(gd);\n",
       "            observer.disconnect();\n",
       "        }}\n",
       "}});\n",
       "\n",
       "// Listen for the removal of the full notebook cells\n",
       "var notebookContainer = gd.closest('#notebook-container');\n",
       "if (notebookContainer) {{\n",
       "    x.observe(notebookContainer, {childList: true});\n",
       "}}\n",
       "\n",
       "// Listen for the clearing of the current output cell\n",
       "var outputEl = gd.closest('.output');\n",
       "if (outputEl) {{\n",
       "    x.observe(outputEl, {childList: true});\n",
       "}}\n",
       "\n",
       "                        })\n",
       "                };\n",
       "                });\n",
       "            </script>\n",
       "        </div>"
      ]
     },
     "metadata": {},
     "output_type": "display_data"
    }
   ],
   "source": [
    "fig = go.Figure(data=go.Scattergeo(\n",
    "    lon = df_country['coordinates.longitude'],\n",
    "    lat = df_country['coordinates.latitude'],\n",
    "    text = df_country['name'].astype(str) + ': ' + df_country['latest_data.calculated.cases_per_million_population'].astype(str),\n",
    "    mode = 'markers',\n",
    "    marker = dict(\n",
    "            size = 10,\n",
    "            opacity = 0.8,\n",
    "            reversescale = False,\n",
    "            autocolorscale = False,\n",
    "            symbol = 'circle',\n",
    "            line = dict(\n",
    "                width=1,\n",
    "                color='rgba(102, 102, 102)'\n",
    "            ),\n",
    "            colorscale = 'Reds',\n",
    "            cmin = 0,\n",
    "            color = df_country['latest_data.calculated.cases_per_million_population'],\n",
    "            cmax = df_country['latest_data.calculated.cases_per_million_population'].max(),\n",
    "            colorbar_title=\"Cases per<br>million population\"\n",
    "        )\n",
    "))\n",
    "\n",
    "fig.update_layout(\n",
    "        title = 'COVID-19 Cases Distribution',\n",
    "        geo_scope='world',\n",
    "        template='plotly_dark',\n",
    "        geo=dict(bgcolor= 'rgba(0,0,0,0)', lakecolor='#4E5D6C',\n",
    "                                          landcolor='rgba(31,96,123,0.7)',\n",
    "                                          subunitcolor='grey')\n",
    "    )\n",
    "fig.show()"
   ]
  }
 ],
 "metadata": {
  "kernelspec": {
   "display_name": "Python 3.7.7 64-bit",
   "language": "python",
   "name": "python37764bit72e53064e74d45679098146b8646dc6c"
  },
  "language_info": {
   "codemirror_mode": {
    "name": "ipython",
    "version": 3
   },
   "file_extension": ".py",
   "mimetype": "text/x-python",
   "name": "python",
   "nbconvert_exporter": "python",
   "pygments_lexer": "ipython3",
   "version": "3.7.8"
  }
 },
 "nbformat": 4,
 "nbformat_minor": 4
}
